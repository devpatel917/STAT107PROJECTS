{
 "cells": [
  {
   "cell_type": "markdown",
   "source": [
    "# Section 1: Understanding an Image\n",
    "\n",
    "A computer represents an image as a 2D grid of **pixels** where each pixel is a single color.  Here is a tiny image **zoomed in at 50x** that shows the nine pixels:\n",
    "\n",
    "![Color](sample-50x.png)\n",
    "\n",
    "The actual image size of a 9 pixel image is really small (here it is): ![sample image](sample.png).  We will need to use Python to help us process large images!\n",
    "\n",
    "\n",
    "## Section 1.1: Image Coordinate System\n",
    "\n",
    "We can refer to any pixel in the image by it's coordinates -- the `x` and `y` position of each pixel.  The **top-left** pixel is (0, 0) and we increase `x` by going \"right\" and increase `y` by going \"down\".\n",
    "\n",
    "- `(0, 0)` is the BLUE pixel in the top-left corner,\n",
    "- `(1, 0)` is the middle WHITE pixel in the top row (since `x=1` moves to the right one),\n",
    "- `(2, 0)` is the RED pixel in the top-right corner.\n",
    "\n",
    "Moving down, the middle row has a `y` value of `1` fo all its pixels:\n",
    "\n",
    "- `(0, 1)` is the GREEN pixel -- it's \"over zero and down one\",\n",
    "- `(1, 1)` is the BLACK pixel in the center, and\n",
    "- `(2, 1)` is the WHITE pixel in the middle-right of the image.\n",
    "\n",
    "Finally, the last row:\n",
    "\n",
    "- `(0, 2)` is the WHITE pixel in the bottom left,\n",
    "- `(1, 2)` is the ILLINI ORANGE pixel,\n",
    "- `(2, 2)` is the ILLINI BLUE pixel\n",
    "\n",
    "\n",
    "## Section 1.2: The `DISCOVERY` library!\n",
    "\n",
    "In DISCOVERY, we developed a library to help you with image data.  To use it:\n",
    "\n",
    "- You must `import DISCOVERY` (all caps, because DISCOVERY!)\n",
    "- Use `image = DISCOVERY.loadImage(\"sample.png\")` to load the `sample.png` image into `image`\n",
    "\n",
    "Try that out in the cell below:"
   ],
   "metadata": {}
  },
  {
   "cell_type": "code",
   "execution_count": 33,
   "source": [
    "import DISCOVERY\n",
    "import pandas as pd\n",
    "image  = DISCOVERY.loadImage(\"sample.png\")\n",
    "image"
   ],
   "outputs": [
    {
     "output_type": "execute_result",
     "data": {
      "text/plain": [
       "array([[[  0,   0, 255],\n",
       "        [  0, 255,   0],\n",
       "        [255, 255, 255]],\n",
       "\n",
       "       [[255, 255, 255],\n",
       "        [  0,   0,   0],\n",
       "        [255,  85,  46]],\n",
       "\n",
       "       [[255,   0,   0],\n",
       "        [255, 255, 255],\n",
       "        [ 19,  41,  75]]])"
      ]
     },
     "metadata": {},
     "execution_count": 33
    }
   ],
   "metadata": {}
  },
  {
   "cell_type": "markdown",
   "source": [
    "To access any specific pixel, you need to \"index into\" the `image` with the `x` and `y` coordinate as `image[x][y]`.  For example:\n",
    "\n",
    "- `image[0][0]` accesses the top-left pixel; in the `sample.png` image, it's the BLUE pixel\n",
    "- `image[2][0]` accesses `x=2, y=0`; in the `sample.png` image, it's the RED pixel\n",
    "- ...etc...\n",
    "\n",
    "In the cell below, access the GREEN pixel and store it in the variable `green_pixel`:"
   ],
   "metadata": {}
  },
  {
   "cell_type": "code",
   "execution_count": 34,
   "source": [
    "len(image[0])"
   ],
   "outputs": [
    {
     "output_type": "execute_result",
     "data": {
      "text/plain": [
       "3"
      ]
     },
     "metadata": {},
     "execution_count": 34
    }
   ],
   "metadata": {}
  },
  {
   "cell_type": "code",
   "execution_count": 35,
   "source": [
    "green_pixel = image[0][1]\n",
    "green_pixel"
   ],
   "outputs": [
    {
     "output_type": "execute_result",
     "data": {
      "text/plain": [
       "array([  0, 255,   0])"
      ]
     },
     "metadata": {},
     "execution_count": 35
    }
   ],
   "metadata": {}
  },
  {
   "cell_type": "code",
   "execution_count": 36,
   "source": [
    "# == TEST CASE for Section 1.2 ==\n",
    "# - Checks to see if `green_pixel` is storing a green pixel\n",
    "DISCOVERY.run_test_case_1b(green_pixel)"
   ],
   "outputs": [
    {
     "output_type": "stream",
     "name": "stdout",
     "text": [
      "✅ `green_pixel` looks like a pixel!\n",
      "✅ `green_pixel` is a green pixel!\n",
      "🎉 All tests passed! 🎉\n"
     ]
    }
   ],
   "metadata": {}
  },
  {
   "cell_type": "markdown",
   "source": [
    "<hr>"
   ],
   "metadata": {}
  },
  {
   "cell_type": "markdown",
   "source": [
    "# Section 2: Accessing Color Data\n",
    "\n",
    "Every color visible on a computer screen is made up of the three **primary colors of light** -- red, green, and blue.  Your monitor displays color by varying the intensity of the red light, green light, and blue light emitted for every pixel on your screen.  Since images are primarily displayed on computer screens, the **default color space is to represent colors as red, green, and blue**.\n",
    "\n",
    "When you have a pixel, you will always see the three components.  For example, the contents of `green_pixel` is `[0, 255, 0]`:\n",
    "- The first `0` means we have 0 / 255 (0%) **red** light\n",
    "- The second `255` means we have 255 / 255 (100%) **green** light\n",
    "- The final `0` means we have 0 / 255 (0%) **blue** light\n",
    "\n",
    "## Section 2.1: Accessing Illini Orange\n",
    "\n",
    "Using the `image` you loaded in Section 1, load the Illini Orange pixel into `illini_orange_pixel`:"
   ],
   "metadata": {}
  },
  {
   "cell_type": "code",
   "execution_count": 37,
   "source": [
    "illini_orange_pixel = image[1,2]\n",
    "illini_orange_pixel"
   ],
   "outputs": [
    {
     "output_type": "execute_result",
     "data": {
      "text/plain": [
       "array([255,  85,  46])"
      ]
     },
     "metadata": {},
     "execution_count": 37
    }
   ],
   "metadata": {}
  },
  {
   "cell_type": "markdown",
   "source": [
    "Now we can access the red, green, and blue components by their value in the list.  Once you have a pixel:\n",
    "\n",
    "- `pixel[0]` is the red color,\n",
    "- `pixel[1]` is the green color, and\n",
    "- `pixel[2]` is the blue color.\n",
    "\n",
    "Find the red, green, and blue values of the `illini_orange_pixel`:"
   ],
   "metadata": {}
  },
  {
   "cell_type": "code",
   "execution_count": 6,
   "source": [
    "red = illini_orange_pixel[0]\n",
    "red"
   ],
   "outputs": [
    {
     "output_type": "execute_result",
     "data": {
      "text/plain": [
       "255"
      ]
     },
     "metadata": {},
     "execution_count": 6
    }
   ],
   "metadata": {}
  },
  {
   "cell_type": "code",
   "execution_count": 7,
   "source": [
    "green = illini_orange_pixel[1]\n",
    "green"
   ],
   "outputs": [
    {
     "output_type": "execute_result",
     "data": {
      "text/plain": [
       "85"
      ]
     },
     "metadata": {},
     "execution_count": 7
    }
   ],
   "metadata": {}
  },
  {
   "cell_type": "code",
   "execution_count": 8,
   "source": [
    "blue = illini_orange_pixel[2]\n",
    "blue"
   ],
   "outputs": [
    {
     "output_type": "execute_result",
     "data": {
      "text/plain": [
       "46"
      ]
     },
     "metadata": {},
     "execution_count": 8
    }
   ],
   "metadata": {}
  },
  {
   "cell_type": "markdown",
   "source": [
    "## Section 2.2: Average Pixel Strategy\n",
    "\n",
    "To create the mosaic, we will need to find the **average** pixel color of everyone one of your tile images.  You can do this either of two ways:\n",
    "1. Using Python to find the average of all the individual pixels,\n",
    "2. Creating a DataFrame to store all of the individual pixels and using `pandas` to find the average\n",
    "\n",
    "Since you are an expert in working with DataFrames, we will go for Option #2!  However, you can try #1 if you are up for a challenge!\n",
    "\n",
    "\n",
    "## Section 2.3: Finding the Height and Width\n",
    "\n",
    "All of our images will be much larger than the 3x3 `sample.png` image -- and we don't know the size in advance -- so we need to find the `height` of an image.  Luckily, this is easy:\n",
    "\n",
    "- `len(image)` will tell us how many columns are in the image (since the first index is the `x` value) -- this is our `width`\n",
    "- `len(image[0])` will tell us how many pixels are in the first column (since images are always a rectangle) -- this is our `height`\n",
    "\n",
    "Find the `height` and `width` of your `sample.png` image stored in `image` from Section 1:"
   ],
   "metadata": {}
  },
  {
   "cell_type": "code",
   "execution_count": 38,
   "source": [
    "width = len(image)\n",
    "width"
   ],
   "outputs": [
    {
     "output_type": "execute_result",
     "data": {
      "text/plain": [
       "3"
      ]
     },
     "metadata": {},
     "execution_count": 38
    }
   ],
   "metadata": {}
  },
  {
   "cell_type": "code",
   "execution_count": 39,
   "source": [
    "height = len(image[0])\n",
    "height"
   ],
   "outputs": [
    {
     "output_type": "execute_result",
     "data": {
      "text/plain": [
       "3"
      ]
     },
     "metadata": {},
     "execution_count": 39
    }
   ],
   "metadata": {}
  },
  {
   "cell_type": "markdown",
   "source": [
    "## Section 2.4: Converting Pixel Data to a DataFrame - First Row\n",
    "\n",
    "Once you have the height and width, you must **visit every pixel** to add it to a DataFrame.  This is **VERY SIMILAR** to doing a simulation, except that we want to visit different pixels to add them to the DataFrame instead of randomly generating data.\n",
    "\n",
    "To start this, write a simulation except include three key changes:\n",
    "\n",
    "1. Instead of simulating something 10,000 times, run your loop for only however many pixels are in the first row (is that `width` or `height`)?\n",
    "\n",
    "2. Instead of using `for i in ...`, since we're changing the value of `x`, use `for x in ...` to be more descriptive.\n",
    "\n",
    "3. Instead of simulating a random number, the three real world variables should be:\n",
    "    * the **red pixel value as `r`**,\n",
    "    * the **green pixel value as `g`**,\n",
    "    * the **blue pixel value `b`**,\n",
    "    * the **`x` value**, and\n",
    "    * the **`y` value** (always `0` for now, but we will update it later)  \n",
    "(You will probably have six lines of code in the top of your simulation; one to get the pixel followed by five to get `r`, `g`, `b`, `x`, and `y`).\n",
    "\n",
    "Write your modified simulation code that will store **all of the pixels in the first row** of the image in `image`.\n",
    "- Each row must have a value for `r`, `g`, `b`, `x`, and `y`.\n",
    "- Store your DataFrame in the variable `df`."
   ],
   "metadata": {}
  },
  {
   "cell_type": "code",
   "execution_count": 40,
   "source": [
    "import pandas as pd\n",
    "data = []\n",
    "for x in range(height):\n",
    "    pixel = image[x][0]\n",
    "    d = {'x':x, 'y':0, 'r':pixel[0], 'g':pixel[1], 'b':pixel[2]}\n",
    "    data.append(d)\n",
    "\n",
    "df = pd.DataFrame(data)\n",
    "    \n",
    "    \n"
   ],
   "outputs": [],
   "metadata": {}
  },
  {
   "cell_type": "code",
   "execution_count": 41,
   "source": [
    "df"
   ],
   "outputs": [
    {
     "output_type": "execute_result",
     "data": {
      "text/plain": [
       "     b    g    r  x  y\n",
       "0  255    0    0  0  0\n",
       "1  255  255  255  1  0\n",
       "2    0    0  255  2  0"
      ],
      "text/html": [
       "<div>\n",
       "<style>\n",
       "    .dataframe thead tr:only-child th {\n",
       "        text-align: right;\n",
       "    }\n",
       "\n",
       "    .dataframe thead th {\n",
       "        text-align: left;\n",
       "    }\n",
       "\n",
       "    .dataframe tbody tr th {\n",
       "        vertical-align: top;\n",
       "    }\n",
       "</style>\n",
       "<table border=\"1\" class=\"dataframe\">\n",
       "  <thead>\n",
       "    <tr style=\"text-align: right;\">\n",
       "      <th></th>\n",
       "      <th>b</th>\n",
       "      <th>g</th>\n",
       "      <th>r</th>\n",
       "      <th>x</th>\n",
       "      <th>y</th>\n",
       "    </tr>\n",
       "  </thead>\n",
       "  <tbody>\n",
       "    <tr>\n",
       "      <th>0</th>\n",
       "      <td>255</td>\n",
       "      <td>0</td>\n",
       "      <td>0</td>\n",
       "      <td>0</td>\n",
       "      <td>0</td>\n",
       "    </tr>\n",
       "    <tr>\n",
       "      <th>1</th>\n",
       "      <td>255</td>\n",
       "      <td>255</td>\n",
       "      <td>255</td>\n",
       "      <td>1</td>\n",
       "      <td>0</td>\n",
       "    </tr>\n",
       "    <tr>\n",
       "      <th>2</th>\n",
       "      <td>0</td>\n",
       "      <td>0</td>\n",
       "      <td>255</td>\n",
       "      <td>2</td>\n",
       "      <td>0</td>\n",
       "    </tr>\n",
       "  </tbody>\n",
       "</table>\n",
       "</div>"
      ]
     },
     "metadata": {},
     "execution_count": 41
    }
   ],
   "metadata": {}
  },
  {
   "cell_type": "code",
   "execution_count": 42,
   "source": [
    "# == TEST CASE for Section 2.4 ==\n",
    "# - Checks to ensure the DataFrame contains the correct variables and pixel data\n",
    "DISCOVERY.run_test_case_2d(df)"
   ],
   "outputs": [
    {
     "output_type": "stream",
     "name": "stdout",
     "text": [
      "✅ `df` contains the correct number of observations.\n",
      "✅ `df` contains the expected data!\n",
      "🎉 All tests passed! 🎉\n"
     ]
    }
   ],
   "metadata": {}
  },
  {
   "cell_type": "markdown",
   "source": [
    "## Section 2.5: Converting Pixel Data to a DataFrame - All Rows\n",
    "\n",
    "Awesome -- you've done it for one row, now just do it for all rows!\n",
    "\n",
    "- Your existing code completely works for the first row!\n",
    "- Now, you need to go through every row one-by-one.  You can add a second `for`-loop **inside** of your first `for`-loop for each row. This will visit all of the rows for `x=0`, then all of the rows for `x=1`, and so on...\n",
    "\n",
    "\n",
    "### HINT: Double For-Loop\n",
    "\n",
    "You should have two for-loops right next to each other -- one `x` loop and one `y` loop -- and **ALL** of the functionality for the loop should be inside BOTH of them.  (No code needs to be indented into just one for-loop, every line of code in your for-loop should be double-indented to be inside of the rows **and** columns loops.)\n",
    "\n",
    "\n",
    "### Nerd Out!\n",
    "\n",
    "Write your modified simulation code that will store **all of the pixels** of the image in `image`.\n",
    "- Each row must have a value for `r`, `g`, `b`, `x`, and `y`.\n",
    "- Store your DataFrame in the variable `df`.\n",
    "- (This code will be very similar to Section 2.4 code.)"
   ],
   "metadata": {}
  },
  {
   "cell_type": "code",
   "execution_count": 43,
   "source": [
    "import pandas as pd\n",
    "data = []\n",
    "for x in range(height):\n",
    "    for y in range(width):\n",
    "        pixel = image[x][y]\n",
    "        d = {'x':x, 'y':y, 'r':pixel[0], 'g':pixel[1], 'b':pixel[2]}\n",
    "        data.append(d)\n",
    "\n",
    "    \n",
    "\n",
    "df = pd.DataFrame(data)"
   ],
   "outputs": [],
   "metadata": {}
  },
  {
   "cell_type": "code",
   "execution_count": 44,
   "source": [
    "df"
   ],
   "outputs": [
    {
     "output_type": "execute_result",
     "data": {
      "text/plain": [
       "     b    g    r  x  y\n",
       "0  255    0    0  0  0\n",
       "1    0  255    0  0  1\n",
       "2  255  255  255  0  2\n",
       "3  255  255  255  1  0\n",
       "4    0    0    0  1  1\n",
       "5   46   85  255  1  2\n",
       "6    0    0  255  2  0\n",
       "7  255  255  255  2  1\n",
       "8   75   41   19  2  2"
      ],
      "text/html": [
       "<div>\n",
       "<style>\n",
       "    .dataframe thead tr:only-child th {\n",
       "        text-align: right;\n",
       "    }\n",
       "\n",
       "    .dataframe thead th {\n",
       "        text-align: left;\n",
       "    }\n",
       "\n",
       "    .dataframe tbody tr th {\n",
       "        vertical-align: top;\n",
       "    }\n",
       "</style>\n",
       "<table border=\"1\" class=\"dataframe\">\n",
       "  <thead>\n",
       "    <tr style=\"text-align: right;\">\n",
       "      <th></th>\n",
       "      <th>b</th>\n",
       "      <th>g</th>\n",
       "      <th>r</th>\n",
       "      <th>x</th>\n",
       "      <th>y</th>\n",
       "    </tr>\n",
       "  </thead>\n",
       "  <tbody>\n",
       "    <tr>\n",
       "      <th>0</th>\n",
       "      <td>255</td>\n",
       "      <td>0</td>\n",
       "      <td>0</td>\n",
       "      <td>0</td>\n",
       "      <td>0</td>\n",
       "    </tr>\n",
       "    <tr>\n",
       "      <th>1</th>\n",
       "      <td>0</td>\n",
       "      <td>255</td>\n",
       "      <td>0</td>\n",
       "      <td>0</td>\n",
       "      <td>1</td>\n",
       "    </tr>\n",
       "    <tr>\n",
       "      <th>2</th>\n",
       "      <td>255</td>\n",
       "      <td>255</td>\n",
       "      <td>255</td>\n",
       "      <td>0</td>\n",
       "      <td>2</td>\n",
       "    </tr>\n",
       "    <tr>\n",
       "      <th>3</th>\n",
       "      <td>255</td>\n",
       "      <td>255</td>\n",
       "      <td>255</td>\n",
       "      <td>1</td>\n",
       "      <td>0</td>\n",
       "    </tr>\n",
       "    <tr>\n",
       "      <th>4</th>\n",
       "      <td>0</td>\n",
       "      <td>0</td>\n",
       "      <td>0</td>\n",
       "      <td>1</td>\n",
       "      <td>1</td>\n",
       "    </tr>\n",
       "    <tr>\n",
       "      <th>5</th>\n",
       "      <td>46</td>\n",
       "      <td>85</td>\n",
       "      <td>255</td>\n",
       "      <td>1</td>\n",
       "      <td>2</td>\n",
       "    </tr>\n",
       "    <tr>\n",
       "      <th>6</th>\n",
       "      <td>0</td>\n",
       "      <td>0</td>\n",
       "      <td>255</td>\n",
       "      <td>2</td>\n",
       "      <td>0</td>\n",
       "    </tr>\n",
       "    <tr>\n",
       "      <th>7</th>\n",
       "      <td>255</td>\n",
       "      <td>255</td>\n",
       "      <td>255</td>\n",
       "      <td>2</td>\n",
       "      <td>1</td>\n",
       "    </tr>\n",
       "    <tr>\n",
       "      <th>8</th>\n",
       "      <td>75</td>\n",
       "      <td>41</td>\n",
       "      <td>19</td>\n",
       "      <td>2</td>\n",
       "      <td>2</td>\n",
       "    </tr>\n",
       "  </tbody>\n",
       "</table>\n",
       "</div>"
      ]
     },
     "metadata": {},
     "execution_count": 44
    }
   ],
   "metadata": {}
  },
  {
   "cell_type": "code",
   "execution_count": 45,
   "source": [
    "# == TEST CASE for Section 2.5 ==\n",
    "# - Checks to ensure the DataFrame contains the correct variables and pixel data\n",
    "DISCOVERY.run_test_case_2e(df)"
   ],
   "outputs": [
    {
     "output_type": "stream",
     "name": "stdout",
     "text": [
      "✅ `df` contains the correct number of observations.\n",
      "✅ `df` contains the expected data!\n",
      "🎉 All tests passed! 🎉\n"
     ]
    }
   ],
   "metadata": {}
  },
  {
   "cell_type": "markdown",
   "source": [
    "<hr>"
   ],
   "metadata": {}
  },
  {
   "cell_type": "markdown",
   "source": [
    "# Section 3: Creating an ImageToDataFrame Function\n",
    "\n",
    "Now, put everything you've done together into a **function**.\n",
    "\n",
    "- The `loadImageToDataFrame` function takes the name of a file as `fileName`.\n",
    "- You must return a DataFrame that contains the image data.\n",
    "\n",
    "*(You've already done this in the previous sections, you just need to put it inside of a function and return the DataFrame.)*"
   ],
   "metadata": {}
  },
  {
   "cell_type": "code",
   "execution_count": 46,
   "source": [
    "def loadImageToDataFrame(fileName):\n",
    "\n",
    "  import DISCOVERY\n",
    "  import pandas as pd\n",
    "\n",
    "  \n",
    "  image  = DISCOVERY.loadImage(fileName)\n",
    "  width = len(image)\n",
    "  height = len(image[0])\n",
    "\n",
    "  data = []\n",
    "  for x in range(height):\n",
    "      for y in range(width):\n",
    "          pixel = image[x][y]\n",
    "          d = {'x':x, 'y':y, 'r':pixel[0], 'g':pixel[1], 'b':pixel[2]}\n",
    "          data.append(d)\n",
    "\n",
    "    \n",
    "\n",
    "  df = pd.DataFrame(data)\n",
    "  \n",
    "  \n",
    "  \n",
    "  return df"
   ],
   "outputs": [],
   "metadata": {}
  },
  {
   "cell_type": "code",
   "execution_count": 47,
   "source": [
    "# == TEST CASE for Section 3 ==\n",
    "# - Checks to ensure the DataFrame contains the correct variables and pixel data\n",
    "DISCOVERY.run_test_case_3(loadImageToDataFrame)"
   ],
   "outputs": [
    {
     "output_type": "stream",
     "name": "stdout",
     "text": [
      "✅ `df` looks good with \"sample.png\"!\n",
      "✅ `df` looks good with \"sample-50x.png\"!\n",
      "🎉 All tests passed! 🎉\n"
     ]
    }
   ],
   "metadata": {}
  },
  {
   "cell_type": "markdown",
   "source": [
    "<hr>"
   ],
   "metadata": {}
  },
  {
   "cell_type": "markdown",
   "source": [
    "# Section 4: Find the Average Color of an Image\n",
    "\n",
    "Given an image (see Section 1 and 2) to remind yourself of the format, find the **overall average color of the image** by finding the average red color, average green color, and average blue color.\n",
    "\n",
    "Write this in the function `findAverageColor` below.  Since this is an image and not a DataFrame, you will need to sum up all the red values, green values, and blue values.  You must return the **average color as a dictionary** with the values:\n",
    "- `avg_r`, for the average red color,\n",
    "- `avg_g`, for the average green color,\n",
    "- `avg_b`, for the average blue color"
   ],
   "metadata": {}
  },
  {
   "cell_type": "code",
   "execution_count": 48,
   "source": [
    "def findAverageImageColor(image):\n",
    "  data = []\n",
    "  \n",
    "\n",
    "  width = len(image)\n",
    "  height = len(image[0])\n",
    "\n",
    "  redSum = 0\n",
    "  greenSum = 0\n",
    "  blueSum = 0\n",
    "\n",
    "  area = width*height\n",
    "  \n",
    "\n",
    "\n",
    "  for x in range(width):\n",
    "    for y in range(height):\n",
    "       pixel = image[x][y]\n",
    "       redSum = redSum + pixel[0]\n",
    "       greenSum = greenSum + pixel[1]\n",
    "       blueSum = blueSum + pixel[2]\n",
    "  \n",
    "\n",
    "  redAverage = redSum / area\n",
    "  greenAverage = greenSum / area\n",
    "  blueAverage = blueSum / area\n",
    "  \n",
    "  \n",
    "  d = {'avg_r':redAverage,'avg_g':greenAverage,'avg_b':blueAverage}\n",
    "\n",
    "  data.append(d)\n",
    "  \n",
    "\n",
    "  \n",
    "  return d"
   ],
   "outputs": [],
   "metadata": {}
  },
  {
   "cell_type": "code",
   "execution_count": 49,
   "source": [
    "# == TEST CASE for Section 4 ==\n",
    "# - Checks to ensure the DataFrame contains the correct variables and pixel data\n",
    "DISCOVERY.run_test_case_4(findAverageImageColor)"
   ],
   "outputs": [
    {
     "output_type": "stream",
     "name": "stdout",
     "text": [
      "✅ Dictionary contain the key `avg_r`.\n",
      "✅ Dictionary contain the key `avg_g`.\n",
      "✅ Dictionary contain the key `avg_b`.\n",
      "✅ Looks good!\n",
      "🎉 All tests passed! 🎉\n"
     ]
    }
   ],
   "metadata": {}
  },
  {
   "cell_type": "markdown",
   "source": [
    "<hr>"
   ],
   "metadata": {}
  },
  {
   "cell_type": "markdown",
   "source": [
    "# Section 5: Finding the Average Color of Your Tile Images\n",
    "\n",
    "Before beginning the programming, you should have set up a directory called `tiles` that contains all of your tile images.  If you haven't done that, you need to do that now.\n",
    "\n",
    "To create an image mosaic, we need to find the average pixel color of every one of our tile images so that we can know the best tile image to use when we begin to mosaic our image.  The code below is already complete and does the following:\n",
    "\n",
    "- Goes through each image file in your `tiles` directory,\n",
    "- Finds the average pixel color of each image using your `loadImageToDataFrame` function from Section 3 and your `findAverageColor` function from Section 4,\n",
    "- Finally, creates a new DataFrame `df_tiles` with the average color of each image and returns that DataFrame.\n",
    "\n",
    "*Make sure to run this code -- we'll need it later!*"
   ],
   "metadata": {}
  },
  {
   "cell_type": "code",
   "execution_count": 50,
   "source": [
    "def createTilesDataFrame(path):\n",
    "  data = []\n",
    "\n",
    "  # Loop through all images in the `path` directory:\n",
    "  for tileImageFileName in DISCOVERY.listTileImagesInPath(path):\n",
    "    # Load the image as a DataFrame and find the average color:\n",
    "    image = DISCOVERY.loadImage(tileImageFileName)\n",
    "    averageColor = findAverageImageColor(image)\n",
    "\n",
    "    # Store the fileName and average colors in a dictionary:\n",
    "    d = { \"fileName\": tileImageFileName, \"r\": averageColor[\"avg_r\"], \"g\": averageColor[\"avg_g\"], \"b\": averageColor[\"avg_b\"] }\n",
    "    data.append(d)\n",
    "\n",
    "  # Create the `df_tiles` DataFrame:\n",
    "  df_tiles = pd.DataFrame(data)\n",
    "  return df_tiles\n"
   ],
   "outputs": [],
   "metadata": {}
  },
  {
   "cell_type": "markdown",
   "source": [
    "<hr>"
   ],
   "metadata": {}
  },
  {
   "cell_type": "markdown",
   "source": [
    "# Section 6: Splitting Up Your Base Image\n",
    "\n",
    "To mosaic an image, we must split the base image into small regions to be replaced with the tile images.  To accomplish this, we need a function that will **find the average color of a small region of an image**.\n",
    "\n",
    "- In our `sample.png` (from Section 1), we might need the color of just a 2x2 square from the 3x3 image.\n",
    "- In `findAverageImageColor` you already found the average color of the full image.\n",
    "- Now you just need to find the average image color of the subset of the image!\n",
    "\n",
    "\n",
    "Create a function `findAverageImageColorInBox` that finds the average image color of a box region of the image starting at (`x`, `y`) and spanning `width` pixels wide and `height` pixels tall and return the average image color of that box.\n",
    "\n",
    "- Example: `findAverageImageColorInBox(image, box_x=0, box_y=0, box_width=3, box_height=3)` must return the average colors of the pixels that have (`x=0` to `x=2`) and (`y=0` or `y=2`) since we start at `box_x=0`/`box_y=0` and need three pixels.\n",
    "\n",
    "- Example: `findAverageImageColorInBox(image, box_x=5, box_y=5, box_width=5, box_height=5)` must return the average colors of the pixels that have (`x=5` to `x=9`) and (`y=5` to `y=9`) since we start at `box_x=5`/`box_y=5` and need five pixels.\n",
    "\n",
    "- Example: `findAverageImageColorInBox(image, box_x=5, box_y=0, box_width=5, box_height=5)` must return the average colors of the pixels that have (`x=5` to `x=9`) and (`y=0` to `y=4`) since we start at `box_x=5` but `box_y=0`.\n",
    "\n",
    "***HINT**: This can be a small modification on `findAverageImageColor` and there's a lot of ways to approach it!  Just like `findAverageImageColor`, you must return the **average color as a dictionary** with the values:\n",
    "- `avg_r`, for the average red color,\n",
    "- `avg_g`, for the average green color,\n",
    "- `avg_b`, for the average blue color"
   ],
   "metadata": {}
  },
  {
   "cell_type": "code",
   "execution_count": 51,
   "source": [
    "def findAverageImageColorInBox(image, box_x, box_y, box_width, box_height):\n",
    "  import DISCOVERY\n",
    "  data = []\n",
    "  \n",
    "\n",
    "  # width = len(image)\n",
    "  # height = len(image[0])\n",
    "\n",
    "  redSum = 0\n",
    "  greenSum = 0\n",
    "  blueSum = 0\n",
    "\n",
    "  area = box_width*box_height\n",
    "  \n",
    "\n",
    "\n",
    "  for x in range(box_x, box_x + box_width ):\n",
    "    for y in range(box_y, box_y + box_height):\n",
    "       pixel = image[x][y]\n",
    "       redSum = redSum + pixel[0]\n",
    "       greenSum = greenSum + pixel[1]\n",
    "       blueSum = blueSum + pixel[2]\n",
    "  \n",
    "\n",
    "  redAverage = redSum / area\n",
    "  greenAverage = greenSum / area\n",
    "  blueAverage = blueSum / area\n",
    "  \n",
    "  \n",
    "  d = {'avg_r':redAverage,'avg_g':greenAverage,'avg_b':blueAverage}\n",
    "\n",
    "  data.append(d)\n",
    "  \n",
    "\n",
    "  \n",
    "  return d\n",
    "\n",
    "  "
   ],
   "outputs": [],
   "metadata": {}
  },
  {
   "cell_type": "code",
   "execution_count": 52,
   "source": [
    "# == TEST CASE for Section 6 ==\n",
    "# - Checks to ensure the DataFrame contains the correct variables and pixel data\n",
    "import DISCOVERY\n",
    "DISCOVERY.run_test_case_6(findAverageImageColorInBox)"
   ],
   "outputs": [
    {
     "output_type": "stream",
     "name": "stdout",
     "text": [
      "✅ Test case with box_x = 0, box_y = 0, box_width = 2, box_height = 2 found returned the correct average color.\n",
      "✅ Test case with box_x = 2, box_y = 0, box_width = 2, box_height = 2 found returned the correct average color.\n",
      "✅ Test case with box_x = 2, box_y = 2, box_width = 2, box_height = 2 found returned the correct average color.\n",
      "✅ Test case with box_x = 5, box_y = 1, box_width = 2, box_height = 2 found returned the correct average color.\n",
      "✅ Test case with box_x = 5, box_y = 1, box_width = 4, box_height = 2 found returned the correct average color.\n",
      "✅ Test case with box_x = 5, box_y = 1, box_width = 4, box_height = 3 found returned the correct average color.\n",
      "🎉 All tests passed! 🎉\n"
     ]
    }
   ],
   "metadata": {}
  },
  {
   "cell_type": "markdown",
   "source": [
    "<hr>"
   ],
   "metadata": {}
  },
  {
   "cell_type": "markdown",
   "source": [
    "# Section 7: Finding the Best Match\n",
    "\n",
    "There's just **one last function**:\n",
    "- You have a DataFrame of all your tile images averages (`df_tiles`),\n",
    "- You can find a subset of a region of your image with your `findImageDataFrameSubset` function, **AND**\n",
    "- You can find `avg_r`, `avg_g`, and `avg_b` for every region of your image with your `findAverageColor` function.\n",
    "\n",
    "Your final function, `findBestTile`, needs to **find the best tile image from `df_tiles` for a given average color**.  You should do this by finding the row in `df_tiles` that has the smallest distance from the average color.\n",
    "\n",
    "## Example \n",
    "\n",
    "Consider three simple tile images:\n",
    "\n",
    "1. A red tile image with a color of (255, 0, 0)\n",
    "2. A green tile image with a color of (0, 255, 0)\n",
    "3. A blue tile image with a color of (0, 0, 255)\n",
    "\n",
    "If your image region has `avg_r` = 10, `avg_g` = 200, and `avg_b` = 20, the distance formula tells us:\n",
    "\n",
    "1. For the red tile (255, 0, 0), the distance away is $d = \\sqrt{(255 - 10)^2 + (0 - 200)^2  + (0 - 20)^2} = 316.8990375$\n",
    "2. For the green tile (0, 255, 0), the distance away is $d = \\sqrt{(0 - 10)^2 + (255 - 200)^2  + (0 - 20)^2} = 59.37171044$\n",
    "3. For the blue tile (0, 0, 255), the distance away is $d = \\sqrt{(0 - 10)^2 + (0 - 200)^2  + (255 - 20)^2} = 308.7474696$\n",
    "\n",
    "We find that the green tile is the closest since it has the minimum distance.  The green tile should be returned.\n",
    "\n",
    "\n",
    "## Hints\n",
    "\n",
    "- If you need to remember the format of `df_tiles`, you can find that in Section 5.\n",
    "- You should add an extra value `df[\"dist\"] = ...` to your DataFrame.\n",
    "- Once you have the distance calculated, how do you return just the smallest row?"
   ],
   "metadata": {}
  },
  {
   "cell_type": "code",
   "execution_count": 53,
   "source": [
    "# Returns a single row for the title that is the best match given an r_avg, g_avg, and b_avg\n",
    "def findBestTile(df_tiles, r_avg, g_avg, b_avg):\n",
    "  df_tiles['dist'] = (((df_tiles['r'] - r_avg)**2) + ((df_tiles['g'] - g_avg) ** 2) + ((df_tiles['b'] - b_avg)**2))**0.5\n",
    "  \n",
    "  minDistance = df_tiles['dist'].min()\n",
    "\n",
    "\n",
    "    \n",
    "\n",
    "  return df_tiles[df_tiles['dist'] == minDistance]"
   ],
   "outputs": [],
   "metadata": {}
  },
  {
   "cell_type": "code",
   "execution_count": 54,
   "source": [
    "import DISCOVERY\n",
    "# == TEST CASE for Section 7 ==\n",
    "# - Checks to ensure the DataFrame contains the correct variables and pixel data\n",
    "DISCOVERY.run_test_case_7(findBestTile)"
   ],
   "outputs": [
    {
     "output_type": "stream",
     "name": "stdout",
     "text": [
      "✅ Test case #1 (r=0, g=0, b=0) passed!\n",
      "✅ Test case #1 (r=47, g=49, b=38) passed!\n",
      "✅ Test case #1 (r=54, g=49, b=38) passed!\n",
      "✅ Test case #1 (r=54, g=49, b=52) passed!\n",
      "✅ Test case #1 (r=-100, g=-100, b=-100) passed!\n",
      "🎉 All tests passed! 🎉\n"
     ]
    }
   ],
   "metadata": {}
  },
  {
   "cell_type": "markdown",
   "source": [
    "<hr>"
   ],
   "metadata": {}
  },
  {
   "cell_type": "markdown",
   "source": [
    "# Section 8: Your Mosaic!\n",
    "\n",
    "Time to put everything together!\n",
    "\n",
    "First, let's define some variables that you can configure to make your mosaic uniquely yours:"
   ],
   "metadata": {}
  },
  {
   "cell_type": "code",
   "execution_count": 55,
   "source": [
    "# What is your base image file name?\n",
    "baseImageFileName = \"base.jpg\"\n",
    "\n",
    "# What folder contains your tile images?\n",
    "# - You can change this so you can have multiple different folders of tile images.\n",
    "tileImageFolder = \"tiles\"\n",
    "\n",
    "# What is the maximum number of tiles should your mosaic use across?\n",
    "# - More tiles across will increase the quality of the final image.\n",
    "# - More tiles across will cause your program to run slower.\n",
    "# ...if you have bugs, start this value slow (it won't look great, but it will make it run fast!)\n",
    "# ...a value around 200 usually looks quite good, but play around with this number!\n",
    "maximumTilesX = 200\n",
    "\n",
    "# What height should your tiles be in your mosaic?\n",
    "# - A larger tile image will result in a larger output file.\n",
    "# - A larger tile image will result in your program running slower.\n",
    "# - A larger tile image will result in more detail in the output file.\n",
    "tileHeight = 32"
   ],
   "outputs": [],
   "metadata": {}
  },
  {
   "cell_type": "markdown",
   "source": [
    "## Now create your mosaic!\n",
    "\n",
    "Run the code to create your mosaic.\n",
    "\n",
    "- This **WILL** take a bit of time (even more on slower/older laptops).\n",
    "- This will run fastest if your laptop is plugged in (when it's unplugged, your laptop will try and save power and may not run at full speed)."
   ],
   "metadata": {}
  },
  {
   "cell_type": "code",
   "execution_count": 56,
   "source": [
    "print(f\"Creating `df_tiles` from tile images in folder `{tileImageFolder}`...\")\n",
    "df_tiles = createTilesDataFrame(tileImageFolder)\n",
    "print(f\"...found {len(df_tiles)} tile images!\")\n",
    "df_tiles"
   ],
   "outputs": [
    {
     "output_type": "stream",
     "name": "stdout",
     "text": [
      "Creating `df_tiles` from tile images in folder `tiles`...\n",
      "...found 1805 tile images!\n"
     ]
    },
    {
     "output_type": "execute_result",
     "data": {
      "text/plain": [
       "               b                                           fileName  \\\n",
       "0     101.448234    tiles/12543290_743782945758728_2050232560_n.png   \n",
       "1     107.686288  tiles/929215_352643904900366_812094193_n-9-108...   \n",
       "2     127.769531  tiles/17267774_227185591020106_415187012684244...   \n",
       "3     156.938437     tiles/11282781_107601682906321_284282954_n.png   \n",
       "4     122.779062  tiles/929215_352643904900366_812094193_n-9-307...   \n",
       "5      74.664062     tiles/12552336_915909268484983_752663590_n.png   \n",
       "6      98.378750  tiles/929215_352643904900366_812094193_n-9-461...   \n",
       "7      51.936875   tiles/12357846_1662572590694226_1096579538_n.png   \n",
       "8     102.247656  tiles/929215_352643904900366_812094193_n-9-475...   \n",
       "9     119.850781  tiles/929215_352643904900366_812094193_n-9-313...   \n",
       "10    155.666554  tiles/929215_352643904900366_812094193_n-9-106...   \n",
       "11     67.331250  tiles/929215_352643904900366_812094193_n-9-449...   \n",
       "12    201.928125  tiles/929215_352643904900366_812094193_n-9-878...   \n",
       "13     30.167969    tiles/12237523_902749193137779_1137826535_n.png   \n",
       "14     64.782656  tiles/929215_352643904900366_812094193_n-9-844...   \n",
       "15    122.747500  tiles/929215_352643904900366_812094193_n-9-850...   \n",
       "16    123.228906  tiles/929215_352643904900366_812094193_n-9-663...   \n",
       "17     81.940625    tiles/14276456_131937690593508_2078490163_n.png   \n",
       "18    107.132969  tiles/929215_352643904900366_812094193_n-9-105...   \n",
       "19     90.565270  tiles/929215_352643904900366_812094193_n-9-127...   \n",
       "20     92.847813  tiles/929215_352643904900366_812094193_n-9-126...   \n",
       "21    102.734072  tiles/18161727_275415869586282_599482831424454...   \n",
       "22    131.568125  tiles/929215_352643904900366_812094193_n-9-111...   \n",
       "23     92.199687  tiles/929215_352643904900366_812094193_n-9-677...   \n",
       "24    166.722382  tiles/929215_352643904900366_812094193_n-9-887...   \n",
       "25    102.619531  tiles/929215_352643904900366_812094193_n-9-124...   \n",
       "26    132.401042  tiles/929215_352643904900366_812094193_n-9-139...   \n",
       "27    105.858437  tiles/929215_352643904900366_812094193_n-9-893...   \n",
       "28     79.459375  tiles/30079464_435691103535567_276137961442823...   \n",
       "29    130.155937  tiles/929215_352643904900366_812094193_n-9-918...   \n",
       "...          ...                                                ...   \n",
       "1775  117.118817  tiles/929215_352643904900366_812094193_n-9-76.png   \n",
       "1776  109.725625    tiles/12798141_762295530570883_1001581567_n.png   \n",
       "1777  101.038281  tiles/929215_352643904900366_812094193_n-9-915...   \n",
       "1778   85.383750  tiles/16464301_984214268375527_125242250944210...   \n",
       "1779   93.474531  tiles/929215_352643904900366_812094193_n-9-652...   \n",
       "1780   70.398594  tiles/929215_352643904900366_812094193_n-9-124...   \n",
       "1781  121.192500  tiles/929215_352643904900366_812094193_n-9-134...   \n",
       "1782  159.411563  tiles/929215_352643904900366_812094193_n-9-120...   \n",
       "1783   96.666250  tiles/929215_352643904900366_812094193_n-9-125...   \n",
       "1784  137.012188  tiles/929215_352643904900366_812094193_n-9-646...   \n",
       "1785  149.341563  tiles/929215_352643904900366_812094193_n-9-108...   \n",
       "1786  104.293125  tiles/929215_352643904900366_812094193_n-9-127...   \n",
       "1787   40.272656  tiles/929215_352643904900366_812094193_n-9-691...   \n",
       "1788   64.750781  tiles/929215_352643904900366_812094193_n-9-849...   \n",
       "1789  131.150937  tiles/929215_352643904900366_812094193_n-9-128...   \n",
       "1790  127.446875  tiles/929215_352643904900366_812094193_n-9-129...   \n",
       "1791   77.287500  tiles/929215_352643904900366_812094193_n-9-685...   \n",
       "1792   90.837072  tiles/929215_352643904900366_812094193_n-9-875...   \n",
       "1793  131.646094  tiles/929215_352643904900366_812094193_n-9-861...   \n",
       "1794  118.637344  tiles/929215_352643904900366_812094193_n-9-336...   \n",
       "1795  111.538906  tiles/929215_352643904900366_812094193_n-9-104...   \n",
       "1796   75.668594  tiles/929215_352643904900366_812094193_n-9-450...   \n",
       "1797  103.946197  tiles/929215_352643904900366_812094193_n-9-444...   \n",
       "1798  121.896563  tiles/929215_352643904900366_812094193_n-9-105...   \n",
       "1799  128.755469  tiles/34674047_1907735882622197_54284574580266...   \n",
       "1800  107.671406     tiles/1515111_471984069660729_1275938831_n.png   \n",
       "1801   99.783125  tiles/929215_352643904900366_812094193_n-9-478...   \n",
       "1802  139.974537  tiles/929215_352643904900366_812094193_n-9-108...   \n",
       "1803   77.434219  tiles/929215_352643904900366_812094193_n-9-493...   \n",
       "1804   81.697657  tiles/929215_352643904900366_812094193_n-9-109...   \n",
       "\n",
       "               g           r  \n",
       "0     104.845222  110.011600  \n",
       "1     127.347299  152.923130  \n",
       "2     128.833750  143.716875  \n",
       "3     137.972500  128.718281  \n",
       "4     103.488906   96.211562  \n",
       "5     122.514219  198.301406  \n",
       "6      94.670469   91.149531  \n",
       "7      76.574062  103.862500  \n",
       "8     110.495469  132.829219  \n",
       "9     139.377969  158.688281  \n",
       "10    165.261933  175.199865  \n",
       "11     42.867188   37.299062  \n",
       "12    191.611719  187.671094  \n",
       "13     82.937344  132.141875  \n",
       "14    101.726250  216.950938  \n",
       "15    144.114375  145.186719  \n",
       "16    132.406563  129.637500  \n",
       "17     90.433281  101.345000  \n",
       "18     82.680781   82.913125  \n",
       "19    106.617382  109.701004  \n",
       "20     96.725625   97.033750  \n",
       "21    128.460873  185.766274  \n",
       "22    135.659687  124.779062  \n",
       "23    105.622344  111.231719  \n",
       "24    162.002024  178.546804  \n",
       "25    111.070781   97.357500  \n",
       "26    149.109954  154.829282  \n",
       "27    134.500469  195.627500  \n",
       "28     88.557187  103.329063  \n",
       "29    136.062500  102.462656  \n",
       "...          ...         ...  \n",
       "1775  124.835503  137.425089  \n",
       "1776  116.626250  138.023750  \n",
       "1777  116.789531  114.324219  \n",
       "1778   98.838437  120.920312  \n",
       "1779  134.971563  210.261406  \n",
       "1780   76.613750   72.484375  \n",
       "1781  100.034219   75.090469  \n",
       "1782  162.500469  158.730625  \n",
       "1783  109.125469  116.573437  \n",
       "1784  150.290156  150.783594  \n",
       "1785  154.245469  125.906563  \n",
       "1786  106.440156  110.968437  \n",
       "1787   43.354687   45.952188  \n",
       "1788   75.409688  107.278125  \n",
       "1789  143.765469  150.902813  \n",
       "1790  135.364844  121.615781  \n",
       "1791   95.744687  118.408906  \n",
       "1792  103.242537  107.666554  \n",
       "1793  128.510312  135.932344  \n",
       "1794  143.818906  154.704531  \n",
       "1795  114.452031  123.075625  \n",
       "1796   75.706563   87.896719  \n",
       "1797  126.413560  146.693372  \n",
       "1798  133.268594  138.866875  \n",
       "1799  115.636406  115.225156  \n",
       "1800  111.500000  115.369219  \n",
       "1801  125.611094  175.402500  \n",
       "1802  135.198495  111.265432  \n",
       "1803  128.500313  147.431250  \n",
       "1804   94.817586   97.936256  \n",
       "\n",
       "[1805 rows x 4 columns]"
      ],
      "text/html": [
       "<div>\n",
       "<style>\n",
       "    .dataframe thead tr:only-child th {\n",
       "        text-align: right;\n",
       "    }\n",
       "\n",
       "    .dataframe thead th {\n",
       "        text-align: left;\n",
       "    }\n",
       "\n",
       "    .dataframe tbody tr th {\n",
       "        vertical-align: top;\n",
       "    }\n",
       "</style>\n",
       "<table border=\"1\" class=\"dataframe\">\n",
       "  <thead>\n",
       "    <tr style=\"text-align: right;\">\n",
       "      <th></th>\n",
       "      <th>b</th>\n",
       "      <th>fileName</th>\n",
       "      <th>g</th>\n",
       "      <th>r</th>\n",
       "    </tr>\n",
       "  </thead>\n",
       "  <tbody>\n",
       "    <tr>\n",
       "      <th>0</th>\n",
       "      <td>101.448234</td>\n",
       "      <td>tiles/12543290_743782945758728_2050232560_n.png</td>\n",
       "      <td>104.845222</td>\n",
       "      <td>110.011600</td>\n",
       "    </tr>\n",
       "    <tr>\n",
       "      <th>1</th>\n",
       "      <td>107.686288</td>\n",
       "      <td>tiles/929215_352643904900366_812094193_n-9-108...</td>\n",
       "      <td>127.347299</td>\n",
       "      <td>152.923130</td>\n",
       "    </tr>\n",
       "    <tr>\n",
       "      <th>2</th>\n",
       "      <td>127.769531</td>\n",
       "      <td>tiles/17267774_227185591020106_415187012684244...</td>\n",
       "      <td>128.833750</td>\n",
       "      <td>143.716875</td>\n",
       "    </tr>\n",
       "    <tr>\n",
       "      <th>3</th>\n",
       "      <td>156.938437</td>\n",
       "      <td>tiles/11282781_107601682906321_284282954_n.png</td>\n",
       "      <td>137.972500</td>\n",
       "      <td>128.718281</td>\n",
       "    </tr>\n",
       "    <tr>\n",
       "      <th>4</th>\n",
       "      <td>122.779062</td>\n",
       "      <td>tiles/929215_352643904900366_812094193_n-9-307...</td>\n",
       "      <td>103.488906</td>\n",
       "      <td>96.211562</td>\n",
       "    </tr>\n",
       "    <tr>\n",
       "      <th>5</th>\n",
       "      <td>74.664062</td>\n",
       "      <td>tiles/12552336_915909268484983_752663590_n.png</td>\n",
       "      <td>122.514219</td>\n",
       "      <td>198.301406</td>\n",
       "    </tr>\n",
       "    <tr>\n",
       "      <th>6</th>\n",
       "      <td>98.378750</td>\n",
       "      <td>tiles/929215_352643904900366_812094193_n-9-461...</td>\n",
       "      <td>94.670469</td>\n",
       "      <td>91.149531</td>\n",
       "    </tr>\n",
       "    <tr>\n",
       "      <th>7</th>\n",
       "      <td>51.936875</td>\n",
       "      <td>tiles/12357846_1662572590694226_1096579538_n.png</td>\n",
       "      <td>76.574062</td>\n",
       "      <td>103.862500</td>\n",
       "    </tr>\n",
       "    <tr>\n",
       "      <th>8</th>\n",
       "      <td>102.247656</td>\n",
       "      <td>tiles/929215_352643904900366_812094193_n-9-475...</td>\n",
       "      <td>110.495469</td>\n",
       "      <td>132.829219</td>\n",
       "    </tr>\n",
       "    <tr>\n",
       "      <th>9</th>\n",
       "      <td>119.850781</td>\n",
       "      <td>tiles/929215_352643904900366_812094193_n-9-313...</td>\n",
       "      <td>139.377969</td>\n",
       "      <td>158.688281</td>\n",
       "    </tr>\n",
       "    <tr>\n",
       "      <th>10</th>\n",
       "      <td>155.666554</td>\n",
       "      <td>tiles/929215_352643904900366_812094193_n-9-106...</td>\n",
       "      <td>165.261933</td>\n",
       "      <td>175.199865</td>\n",
       "    </tr>\n",
       "    <tr>\n",
       "      <th>11</th>\n",
       "      <td>67.331250</td>\n",
       "      <td>tiles/929215_352643904900366_812094193_n-9-449...</td>\n",
       "      <td>42.867188</td>\n",
       "      <td>37.299062</td>\n",
       "    </tr>\n",
       "    <tr>\n",
       "      <th>12</th>\n",
       "      <td>201.928125</td>\n",
       "      <td>tiles/929215_352643904900366_812094193_n-9-878...</td>\n",
       "      <td>191.611719</td>\n",
       "      <td>187.671094</td>\n",
       "    </tr>\n",
       "    <tr>\n",
       "      <th>13</th>\n",
       "      <td>30.167969</td>\n",
       "      <td>tiles/12237523_902749193137779_1137826535_n.png</td>\n",
       "      <td>82.937344</td>\n",
       "      <td>132.141875</td>\n",
       "    </tr>\n",
       "    <tr>\n",
       "      <th>14</th>\n",
       "      <td>64.782656</td>\n",
       "      <td>tiles/929215_352643904900366_812094193_n-9-844...</td>\n",
       "      <td>101.726250</td>\n",
       "      <td>216.950938</td>\n",
       "    </tr>\n",
       "    <tr>\n",
       "      <th>15</th>\n",
       "      <td>122.747500</td>\n",
       "      <td>tiles/929215_352643904900366_812094193_n-9-850...</td>\n",
       "      <td>144.114375</td>\n",
       "      <td>145.186719</td>\n",
       "    </tr>\n",
       "    <tr>\n",
       "      <th>16</th>\n",
       "      <td>123.228906</td>\n",
       "      <td>tiles/929215_352643904900366_812094193_n-9-663...</td>\n",
       "      <td>132.406563</td>\n",
       "      <td>129.637500</td>\n",
       "    </tr>\n",
       "    <tr>\n",
       "      <th>17</th>\n",
       "      <td>81.940625</td>\n",
       "      <td>tiles/14276456_131937690593508_2078490163_n.png</td>\n",
       "      <td>90.433281</td>\n",
       "      <td>101.345000</td>\n",
       "    </tr>\n",
       "    <tr>\n",
       "      <th>18</th>\n",
       "      <td>107.132969</td>\n",
       "      <td>tiles/929215_352643904900366_812094193_n-9-105...</td>\n",
       "      <td>82.680781</td>\n",
       "      <td>82.913125</td>\n",
       "    </tr>\n",
       "    <tr>\n",
       "      <th>19</th>\n",
       "      <td>90.565270</td>\n",
       "      <td>tiles/929215_352643904900366_812094193_n-9-127...</td>\n",
       "      <td>106.617382</td>\n",
       "      <td>109.701004</td>\n",
       "    </tr>\n",
       "    <tr>\n",
       "      <th>20</th>\n",
       "      <td>92.847813</td>\n",
       "      <td>tiles/929215_352643904900366_812094193_n-9-126...</td>\n",
       "      <td>96.725625</td>\n",
       "      <td>97.033750</td>\n",
       "    </tr>\n",
       "    <tr>\n",
       "      <th>21</th>\n",
       "      <td>102.734072</td>\n",
       "      <td>tiles/18161727_275415869586282_599482831424454...</td>\n",
       "      <td>128.460873</td>\n",
       "      <td>185.766274</td>\n",
       "    </tr>\n",
       "    <tr>\n",
       "      <th>22</th>\n",
       "      <td>131.568125</td>\n",
       "      <td>tiles/929215_352643904900366_812094193_n-9-111...</td>\n",
       "      <td>135.659687</td>\n",
       "      <td>124.779062</td>\n",
       "    </tr>\n",
       "    <tr>\n",
       "      <th>23</th>\n",
       "      <td>92.199687</td>\n",
       "      <td>tiles/929215_352643904900366_812094193_n-9-677...</td>\n",
       "      <td>105.622344</td>\n",
       "      <td>111.231719</td>\n",
       "    </tr>\n",
       "    <tr>\n",
       "      <th>24</th>\n",
       "      <td>166.722382</td>\n",
       "      <td>tiles/929215_352643904900366_812094193_n-9-887...</td>\n",
       "      <td>162.002024</td>\n",
       "      <td>178.546804</td>\n",
       "    </tr>\n",
       "    <tr>\n",
       "      <th>25</th>\n",
       "      <td>102.619531</td>\n",
       "      <td>tiles/929215_352643904900366_812094193_n-9-124...</td>\n",
       "      <td>111.070781</td>\n",
       "      <td>97.357500</td>\n",
       "    </tr>\n",
       "    <tr>\n",
       "      <th>26</th>\n",
       "      <td>132.401042</td>\n",
       "      <td>tiles/929215_352643904900366_812094193_n-9-139...</td>\n",
       "      <td>149.109954</td>\n",
       "      <td>154.829282</td>\n",
       "    </tr>\n",
       "    <tr>\n",
       "      <th>27</th>\n",
       "      <td>105.858437</td>\n",
       "      <td>tiles/929215_352643904900366_812094193_n-9-893...</td>\n",
       "      <td>134.500469</td>\n",
       "      <td>195.627500</td>\n",
       "    </tr>\n",
       "    <tr>\n",
       "      <th>28</th>\n",
       "      <td>79.459375</td>\n",
       "      <td>tiles/30079464_435691103535567_276137961442823...</td>\n",
       "      <td>88.557187</td>\n",
       "      <td>103.329063</td>\n",
       "    </tr>\n",
       "    <tr>\n",
       "      <th>29</th>\n",
       "      <td>130.155937</td>\n",
       "      <td>tiles/929215_352643904900366_812094193_n-9-918...</td>\n",
       "      <td>136.062500</td>\n",
       "      <td>102.462656</td>\n",
       "    </tr>\n",
       "    <tr>\n",
       "      <th>...</th>\n",
       "      <td>...</td>\n",
       "      <td>...</td>\n",
       "      <td>...</td>\n",
       "      <td>...</td>\n",
       "    </tr>\n",
       "    <tr>\n",
       "      <th>1775</th>\n",
       "      <td>117.118817</td>\n",
       "      <td>tiles/929215_352643904900366_812094193_n-9-76.png</td>\n",
       "      <td>124.835503</td>\n",
       "      <td>137.425089</td>\n",
       "    </tr>\n",
       "    <tr>\n",
       "      <th>1776</th>\n",
       "      <td>109.725625</td>\n",
       "      <td>tiles/12798141_762295530570883_1001581567_n.png</td>\n",
       "      <td>116.626250</td>\n",
       "      <td>138.023750</td>\n",
       "    </tr>\n",
       "    <tr>\n",
       "      <th>1777</th>\n",
       "      <td>101.038281</td>\n",
       "      <td>tiles/929215_352643904900366_812094193_n-9-915...</td>\n",
       "      <td>116.789531</td>\n",
       "      <td>114.324219</td>\n",
       "    </tr>\n",
       "    <tr>\n",
       "      <th>1778</th>\n",
       "      <td>85.383750</td>\n",
       "      <td>tiles/16464301_984214268375527_125242250944210...</td>\n",
       "      <td>98.838437</td>\n",
       "      <td>120.920312</td>\n",
       "    </tr>\n",
       "    <tr>\n",
       "      <th>1779</th>\n",
       "      <td>93.474531</td>\n",
       "      <td>tiles/929215_352643904900366_812094193_n-9-652...</td>\n",
       "      <td>134.971563</td>\n",
       "      <td>210.261406</td>\n",
       "    </tr>\n",
       "    <tr>\n",
       "      <th>1780</th>\n",
       "      <td>70.398594</td>\n",
       "      <td>tiles/929215_352643904900366_812094193_n-9-124...</td>\n",
       "      <td>76.613750</td>\n",
       "      <td>72.484375</td>\n",
       "    </tr>\n",
       "    <tr>\n",
       "      <th>1781</th>\n",
       "      <td>121.192500</td>\n",
       "      <td>tiles/929215_352643904900366_812094193_n-9-134...</td>\n",
       "      <td>100.034219</td>\n",
       "      <td>75.090469</td>\n",
       "    </tr>\n",
       "    <tr>\n",
       "      <th>1782</th>\n",
       "      <td>159.411563</td>\n",
       "      <td>tiles/929215_352643904900366_812094193_n-9-120...</td>\n",
       "      <td>162.500469</td>\n",
       "      <td>158.730625</td>\n",
       "    </tr>\n",
       "    <tr>\n",
       "      <th>1783</th>\n",
       "      <td>96.666250</td>\n",
       "      <td>tiles/929215_352643904900366_812094193_n-9-125...</td>\n",
       "      <td>109.125469</td>\n",
       "      <td>116.573437</td>\n",
       "    </tr>\n",
       "    <tr>\n",
       "      <th>1784</th>\n",
       "      <td>137.012188</td>\n",
       "      <td>tiles/929215_352643904900366_812094193_n-9-646...</td>\n",
       "      <td>150.290156</td>\n",
       "      <td>150.783594</td>\n",
       "    </tr>\n",
       "    <tr>\n",
       "      <th>1785</th>\n",
       "      <td>149.341563</td>\n",
       "      <td>tiles/929215_352643904900366_812094193_n-9-108...</td>\n",
       "      <td>154.245469</td>\n",
       "      <td>125.906563</td>\n",
       "    </tr>\n",
       "    <tr>\n",
       "      <th>1786</th>\n",
       "      <td>104.293125</td>\n",
       "      <td>tiles/929215_352643904900366_812094193_n-9-127...</td>\n",
       "      <td>106.440156</td>\n",
       "      <td>110.968437</td>\n",
       "    </tr>\n",
       "    <tr>\n",
       "      <th>1787</th>\n",
       "      <td>40.272656</td>\n",
       "      <td>tiles/929215_352643904900366_812094193_n-9-691...</td>\n",
       "      <td>43.354687</td>\n",
       "      <td>45.952188</td>\n",
       "    </tr>\n",
       "    <tr>\n",
       "      <th>1788</th>\n",
       "      <td>64.750781</td>\n",
       "      <td>tiles/929215_352643904900366_812094193_n-9-849...</td>\n",
       "      <td>75.409688</td>\n",
       "      <td>107.278125</td>\n",
       "    </tr>\n",
       "    <tr>\n",
       "      <th>1789</th>\n",
       "      <td>131.150937</td>\n",
       "      <td>tiles/929215_352643904900366_812094193_n-9-128...</td>\n",
       "      <td>143.765469</td>\n",
       "      <td>150.902813</td>\n",
       "    </tr>\n",
       "    <tr>\n",
       "      <th>1790</th>\n",
       "      <td>127.446875</td>\n",
       "      <td>tiles/929215_352643904900366_812094193_n-9-129...</td>\n",
       "      <td>135.364844</td>\n",
       "      <td>121.615781</td>\n",
       "    </tr>\n",
       "    <tr>\n",
       "      <th>1791</th>\n",
       "      <td>77.287500</td>\n",
       "      <td>tiles/929215_352643904900366_812094193_n-9-685...</td>\n",
       "      <td>95.744687</td>\n",
       "      <td>118.408906</td>\n",
       "    </tr>\n",
       "    <tr>\n",
       "      <th>1792</th>\n",
       "      <td>90.837072</td>\n",
       "      <td>tiles/929215_352643904900366_812094193_n-9-875...</td>\n",
       "      <td>103.242537</td>\n",
       "      <td>107.666554</td>\n",
       "    </tr>\n",
       "    <tr>\n",
       "      <th>1793</th>\n",
       "      <td>131.646094</td>\n",
       "      <td>tiles/929215_352643904900366_812094193_n-9-861...</td>\n",
       "      <td>128.510312</td>\n",
       "      <td>135.932344</td>\n",
       "    </tr>\n",
       "    <tr>\n",
       "      <th>1794</th>\n",
       "      <td>118.637344</td>\n",
       "      <td>tiles/929215_352643904900366_812094193_n-9-336...</td>\n",
       "      <td>143.818906</td>\n",
       "      <td>154.704531</td>\n",
       "    </tr>\n",
       "    <tr>\n",
       "      <th>1795</th>\n",
       "      <td>111.538906</td>\n",
       "      <td>tiles/929215_352643904900366_812094193_n-9-104...</td>\n",
       "      <td>114.452031</td>\n",
       "      <td>123.075625</td>\n",
       "    </tr>\n",
       "    <tr>\n",
       "      <th>1796</th>\n",
       "      <td>75.668594</td>\n",
       "      <td>tiles/929215_352643904900366_812094193_n-9-450...</td>\n",
       "      <td>75.706563</td>\n",
       "      <td>87.896719</td>\n",
       "    </tr>\n",
       "    <tr>\n",
       "      <th>1797</th>\n",
       "      <td>103.946197</td>\n",
       "      <td>tiles/929215_352643904900366_812094193_n-9-444...</td>\n",
       "      <td>126.413560</td>\n",
       "      <td>146.693372</td>\n",
       "    </tr>\n",
       "    <tr>\n",
       "      <th>1798</th>\n",
       "      <td>121.896563</td>\n",
       "      <td>tiles/929215_352643904900366_812094193_n-9-105...</td>\n",
       "      <td>133.268594</td>\n",
       "      <td>138.866875</td>\n",
       "    </tr>\n",
       "    <tr>\n",
       "      <th>1799</th>\n",
       "      <td>128.755469</td>\n",
       "      <td>tiles/34674047_1907735882622197_54284574580266...</td>\n",
       "      <td>115.636406</td>\n",
       "      <td>115.225156</td>\n",
       "    </tr>\n",
       "    <tr>\n",
       "      <th>1800</th>\n",
       "      <td>107.671406</td>\n",
       "      <td>tiles/1515111_471984069660729_1275938831_n.png</td>\n",
       "      <td>111.500000</td>\n",
       "      <td>115.369219</td>\n",
       "    </tr>\n",
       "    <tr>\n",
       "      <th>1801</th>\n",
       "      <td>99.783125</td>\n",
       "      <td>tiles/929215_352643904900366_812094193_n-9-478...</td>\n",
       "      <td>125.611094</td>\n",
       "      <td>175.402500</td>\n",
       "    </tr>\n",
       "    <tr>\n",
       "      <th>1802</th>\n",
       "      <td>139.974537</td>\n",
       "      <td>tiles/929215_352643904900366_812094193_n-9-108...</td>\n",
       "      <td>135.198495</td>\n",
       "      <td>111.265432</td>\n",
       "    </tr>\n",
       "    <tr>\n",
       "      <th>1803</th>\n",
       "      <td>77.434219</td>\n",
       "      <td>tiles/929215_352643904900366_812094193_n-9-493...</td>\n",
       "      <td>128.500313</td>\n",
       "      <td>147.431250</td>\n",
       "    </tr>\n",
       "    <tr>\n",
       "      <th>1804</th>\n",
       "      <td>81.697657</td>\n",
       "      <td>tiles/929215_352643904900366_812094193_n-9-109...</td>\n",
       "      <td>94.817586</td>\n",
       "      <td>97.936256</td>\n",
       "    </tr>\n",
       "  </tbody>\n",
       "</table>\n",
       "<p>1805 rows × 4 columns</p>\n",
       "</div>"
      ]
     },
     "metadata": {},
     "execution_count": 56
    }
   ],
   "metadata": {}
  },
  {
   "cell_type": "code",
   "execution_count": 57,
   "source": [
    "print(f\"Loading your base image `{baseImageFileName}`...\")\n",
    "baseImage = DISCOVERY.loadImage(baseImageFileName)\n",
    "width = len(baseImage)\n",
    "height = len(baseImage[0])\n",
    "\n",
    "\n",
    "print(f\"Finding best replacement image for each tile...\")\n",
    "# Find the pixelsPerTile to know the pixels used in the base image per mosaic tile:\n",
    "import math\n",
    "\n",
    "pixelsPerTile = int(math.ceil(width / maximumTilesX))\n",
    "width = int(math.floor(width / pixelsPerTile) * pixelsPerTile)\n",
    "height = int(math.floor(height / pixelsPerTile) * pixelsPerTile)\n",
    "tilesX = int(width / pixelsPerTile)\n",
    "tilesY = int(height / pixelsPerTile)\n",
    "\n",
    "# Create the mosaic:\n",
    "from PIL import Image\n",
    "import sys\n",
    "mosaic = Image.new('RGB', (int(tilesX * tileHeight), int(tilesY * tileHeight)))\n",
    "for x in range(0, width, pixelsPerTile):\n",
    "  for y in range(0, height, pixelsPerTile):\n",
    "    avg_color = findAverageImageColorInBox(baseImage, x, y, pixelsPerTile, pixelsPerTile)\n",
    "    replacement = findBestTile(df_tiles, avg_color[\"avg_r\"], avg_color[\"avg_g\"], avg_color[\"avg_b\"])\n",
    "\n",
    "    tile = DISCOVERY.getTileImage(replacement[\"fileName\"].values[0], tileHeight)\n",
    "    mosaic.paste(tile, (int(x / pixelsPerTile) * tileHeight, int(y / pixelsPerTile) * tileHeight))\n",
    "\n",
    "  # Print out a progress message:\n",
    "  curRow = int((x / pixelsPerTile) + 1)\n",
    "  pct = (curRow / tilesX) * 100\n",
    "  sys.stdout.write(f'\\r  ...progress: {curRow * tilesY} / {tilesX * tilesY} ({pct:.2f}%)')\n",
    "\n",
    "# Save it\n",
    "mosaic.save('mosaic-hd.jpg')\n",
    "\n",
    "# Save a smaller one (for posting):\n",
    "import PIL\n",
    "d = max(width, height)\n",
    "factor = d / 4000\n",
    "if factor <= 1: factor = 1\n",
    "\n",
    "small_w = width / factor\n",
    "small_h = height / factor    \n",
    "baseImage = mosaic.resize( (int(small_w), int(small_h)), resample=PIL.Image.LANCZOS )\n",
    "baseImage.save('mosaic-web.jpg')\n",
    "\n",
    "# Print a message:\n",
    "tada = \"\\N{PARTY POPPER}\"\n",
    "print(\"\")\n",
    "print(\"\")\n",
    "print(f\"{tada} MOSAIC COMPLETE! {tada}\")\n",
    "print(\"- See `mosaic-hq.jpg` to see your HQ moasic! (The file may be HUGE.)\")\n",
    "print(\"- See `mosaic-web.jpg` to see a moasic best suited for the web (still big, but not HUGE)!\")"
   ],
   "outputs": [
    {
     "output_type": "stream",
     "name": "stdout",
     "text": [
      "Loading your base image `base.jpg`...\n",
      "Finding best replacement image for each tile...\n",
      "  ...progress: 24570 / 24570 (100.00%)\n",
      "\n",
      "🎉 MOSAIC COMPLETE! 🎉\n",
      "- See `mosaic-hq.jpg` to see your HQ moasic! (The file may be HUGE.)\n",
      "- See `mosaic-web.jpg` to see a moasic best suited for the web (still big, but not HUGE)!\n"
     ]
    }
   ],
   "metadata": {}
  },
  {
   "cell_type": "markdown",
   "source": [
    "<hr>"
   ],
   "metadata": {}
  },
  {
   "cell_type": "markdown",
   "source": [
    "# Section 9: Extra Credit\n",
    "\n",
    "So your mosaic is fantastic -- but I think you can make it can be **even MORE fantastic**!  If you have ideas of how to improve your mosaic, use the following cells to re-program a function or otherwise change your logic and then re-create your mosaic.\n",
    "\n",
    "If you're not sure and want some inspiration, visit **#project-extra-credit** on the DISCOVERY Discord.  We'll work together on ideas and look at the **pinned messages** on the channel for suggestions that we find to be really good ways of improving the mosaic!  (We have a few in mind as we write this, but there's probably even more!  You should aim to have fun!)"
   ],
   "metadata": {}
  },
  {
   "cell_type": "code",
   "execution_count": null,
   "source": [
    "# Use these cells to add your extra credit code.\n",
    "# ...and feel free to add more cells! :)"
   ],
   "outputs": [],
   "metadata": {}
  },
  {
   "cell_type": "markdown",
   "source": [
    "<hr>\n"
   ],
   "metadata": {}
  },
  {
   "cell_type": "markdown",
   "source": [
    "# Section 10: Submission\n",
    "\n",
    "Make sure to turn in your project:\n",
    "\n",
    "```\n",
    "git add -A\n",
    "git commit -m \"project1\"\n",
    "git push\n",
    "```"
   ],
   "metadata": {}
  },
  {
   "cell_type": "code",
   "execution_count": null,
   "source": [],
   "outputs": [],
   "metadata": {}
  }
 ],
 "metadata": {
  "interpreter": {
   "hash": "16b1c5201636d75291a61703ecf9429294809896ee34aab7cce9325540db3a30"
  },
  "kernelspec": {
   "name": "python3",
   "display_name": "Python 3.6.3 64-bit ('base': conda)"
  },
  "language_info": {
   "codemirror_mode": {
    "name": "ipython",
    "version": 3
   },
   "file_extension": ".py",
   "mimetype": "text/x-python",
   "name": "python",
   "nbconvert_exporter": "python",
   "pygments_lexer": "ipython3",
   "version": "3.6.3"
  },
  "orig_nbformat": 4
 },
 "nbformat": 4,
 "nbformat_minor": 2
}